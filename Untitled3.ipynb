{
 "cells": [
  {
   "cell_type": "code",
   "execution_count": 1,
   "id": "4c569ba7-c6e9-4ba1-a48f-3520d96c682a",
   "metadata": {},
   "outputs": [
    {
     "name": "stdin",
     "output_type": "stream",
     "text": [
      "Enter the size of the list  8\n",
      "Enter element 1:  5\n",
      "Enter element 2:  3\n",
      "Enter element 3:  8\n",
      "Enter element 4:  1\n",
      "Enter element 5:  0\n",
      "Enter element 6:  4\n",
      "Enter element 7:  9\n",
      "Enter element 8:  3\n"
     ]
    },
    {
     "name": "stdout",
     "output_type": "stream",
     "text": [
      "The range of the list is  9\n"
     ]
    }
   ],
   "source": [
    "def difference(arr):\n",
    "  if (len(arr) <=  3 ):\n",
    "    return -1\n",
    "  maximum = max(arr)\n",
    "  minimum = min(arr)\n",
    "  return (int(maximum) - int(minimum))\n",
    "\n",
    "list_size = int(input(\"Enter the size of the list \"))\n",
    "arr = []\n",
    "\n",
    "for i in range(list_size):\n",
    "  element = input(f\"Enter element {i+1}: \")\n",
    "  arr.append(element)\n",
    "\n",
    "range1 = difference(arr)\n",
    "if range1 <= 0:\n",
    "  print(\"Range determination not possible\")\n",
    "else:\n",
    "  print(\"The range of the list is \", range1)"
   ]
  },
  {
   "cell_type": "code",
   "execution_count": null,
   "id": "2169f681-5cf6-464a-b6bf-07b3fa989efd",
   "metadata": {},
   "outputs": [],
   "source": []
  }
 ],
 "metadata": {
  "kernelspec": {
   "display_name": "Python 3 (ipykernel)",
   "language": "python",
   "name": "python3"
  },
  "language_info": {
   "codemirror_mode": {
    "name": "ipython",
    "version": 3
   },
   "file_extension": ".py",
   "mimetype": "text/x-python",
   "name": "python",
   "nbconvert_exporter": "python",
   "pygments_lexer": "ipython3",
   "version": "3.12.4"
  }
 },
 "nbformat": 4,
 "nbformat_minor": 5
}
