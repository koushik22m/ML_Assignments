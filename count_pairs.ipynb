{
 "cells": [
  {
   "cell_type": "code",
   "execution_count": 1,
   "id": "10446fe0-eaa6-4005-9340-213d35450e58",
   "metadata": {},
   "outputs": [
    {
     "name": "stdout",
     "output_type": "stream",
     "text": [
      "Number of unique pairs with sum equal to 10: 2\n"
     ]
    }
   ],
   "source": [
    "def count_pairs_with_sum(numbers, target_sum):\n",
    "\n",
    "    pairs_count = 0\n",
    "    seen=set()\n",
    "    pairs=set()\n",
    "\n",
    "    for number in numbers:\n",
    "        complement=target_sum - number\n",
    "        if complement in seen:\n",
    "            pair=(min(number, complement), max(number, complement))\n",
    "            if pair not in pairs:\n",
    "                pairs.add(pair)\n",
    "                pairs_count += 1\n",
    "        seen.add(number)\n",
    "   \n",
    "    return pairs_count\n",
    "\n",
    "def main():\n",
    "    numbers=[2, 7, 4, 1, 3, 6]\n",
    "    target_sum=10\n",
    "\n",
    "    pairs_count=count_pairs_with_sum(numbers, target_sum)\n",
    "\n",
    "    print(f\"Number of unique pairs with sum equal to {target_sum}: {pairs_count}\")\n",
    "\n",
    "if __name__==\"__main__\":\n",
    "    main()\n",
    "    "
   ]
  },
  {
   "cell_type": "code",
   "execution_count": null,
   "id": "983dad54-f54a-463d-b997-e31b4bc4635c",
   "metadata": {},
   "outputs": [],
   "source": []
  }
 ],
 "metadata": {
  "kernelspec": {
   "display_name": "Python 3 (ipykernel)",
   "language": "python",
   "name": "python3"
  },
  "language_info": {
   "codemirror_mode": {
    "name": "ipython",
    "version": 3
   },
   "file_extension": ".py",
   "mimetype": "text/x-python",
   "name": "python",
   "nbconvert_exporter": "python",
   "pygments_lexer": "ipython3",
   "version": "3.12.4"
  }
 },
 "nbformat": 4,
 "nbformat_minor": 5
}
