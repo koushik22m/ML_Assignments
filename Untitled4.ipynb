{
 "cells": [
  {
   "cell_type": "code",
   "execution_count": 7,
   "id": "dca38fd8-cdb9-429e-9f85-f8a30c21cd8a",
   "metadata": {},
   "outputs": [
    {
     "name": "stdout",
     "output_type": "stream",
     "text": [
      "[92, 105]\n",
      "[120, 137]\n"
     ]
    }
   ],
   "source": [
    "def matrix_multiply(A, B):\n",
    "    n = len(A)\n",
    "    C = [[0] * n for _ in range(n)]\n",
    "    for i in range(n):\n",
    "        for j in range(n):\n",
    "            for k in range(n):\n",
    "                C[i][j] += A[i][k] * B[k][j]\n",
    "    return C\n",
    "\n",
    "def matrix_power(A, m):\n",
    "    n = len(A)\n",
    "\n",
    "    result = [[1 if i == j else 0 for j in range(n)] for i in range(n)]\n",
    "\n",
    "    base = A\n",
    "\n",
    "    while m > 0:\n",
    "        if m % 2 == 1:\n",
    "            result = matrix_multiply(result, base)\n",
    "        base = matrix_multiply(base, base)\n",
    "        m //= 2\n",
    "\n",
    "    return result\n",
    "\n",
    "A = [[6, 7],\n",
    "     [8, 9]]\n",
    "m = 2\n",
    "\n",
    "result = matrix_power(A, m)\n",
    "for row in result:\n",
    "    print(row)\n"
   ]
  },
  {
   "cell_type": "code",
   "execution_count": null,
   "id": "7ee2e8df-cb65-4646-862e-34b63f70731d",
   "metadata": {},
   "outputs": [],
   "source": []
  },
  {
   "cell_type": "code",
   "execution_count": null,
   "id": "ff36c791-b48e-43e5-a0f2-64cbba332fd8",
   "metadata": {},
   "outputs": [],
   "source": []
  }
 ],
 "metadata": {
  "kernelspec": {
   "display_name": "Python 3 (ipykernel)",
   "language": "python",
   "name": "python3"
  },
  "language_info": {
   "codemirror_mode": {
    "name": "ipython",
    "version": 3
   },
   "file_extension": ".py",
   "mimetype": "text/x-python",
   "name": "python",
   "nbconvert_exporter": "python",
   "pygments_lexer": "ipython3",
   "version": "3.12.4"
  }
 },
 "nbformat": 4,
 "nbformat_minor": 5
}
